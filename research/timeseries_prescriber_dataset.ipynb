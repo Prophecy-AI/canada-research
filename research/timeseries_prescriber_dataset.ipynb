{
  "cells": [
    {
      "cell_type": "markdown",
      "metadata": {},
      "source": [
        "# Time-Series Prescriber Dataset\n",
        "\n",
        "**Purpose:** Create monthly time-series data for each prescriber\n",
        "\n",
        "**Granularity:** Prescriber-Month (each row = one prescriber in one month)\n",
        "\n",
        "**Time Range:** 2023-01 to 2025-09 (33 months)\n",
        "\n",
        "**Output:** Panel dataset for longitudinal analysis and forecasting"
      ]
    },
    {
      "cell_type": "markdown",
      "metadata": {},
      "source": [
        "## Step 0: Setup"
      ]
    },
    {
      "cell_type": "code",
      "execution_count": 10,
      "metadata": {},
      "outputs": [
        {
          "name": "stdout",
          "output_type": "stream",
          "text": [
            "✅ Setup complete\n"
          ]
        }
      ],
      "source": [
        "import polars as pl\n",
        "import numpy as np\n",
        "import pandas as pd\n",
        "from google.cloud import bigquery\n",
        "from pathlib import Path\n",
        "\n",
        "# Initialize BigQuery client\n",
        "client = bigquery.Client()\n",
        "\n",
        "# Create output directory\n",
        "output_dir = Path('outputs')\n",
        "output_dir.mkdir(exist_ok=True)\n",
        "\n",
        "print(\"✅ Setup complete\")"
      ]
    },
    {
      "cell_type": "markdown",
      "metadata": {},
      "source": [
        "## Step 1: Create Monthly Prescriber Metrics (rx_claims)"
      ]
    },
    {
      "cell_type": "code",
      "execution_count": 11,
      "metadata": {},
      "outputs": [
        {
          "name": "stdout",
          "output_type": "stream",
          "text": [
            "Executing monthly rx_claims query...\n",
            "(This may take a few minutes - processing 33 months of data)\n",
            "✅ Loaded 467,665 prescriber-month observations\n",
            "   Unique prescribers: 50,056\n",
            "   Unique months: 33\n",
            "   Date range: 2023-01 to 2025-09\n"
          ]
        }
      ],
      "source": [
        "# Query: Monthly metrics for each prescriber from rx_claims\n",
        "query_monthly_rx = \"\"\"\n",
        "SELECT \n",
        "  PRESCRIBER_NPI_NBR,\n",
        "  FORMAT_DATE('%Y-%m', SERVICE_DATE_DD) as month,\n",
        "  \n",
        "  -- Prescriber name (most common value in the month)\n",
        "  APPROX_TOP_COUNT(PRESCRIBER_NPI_NM, 1)[OFFSET(0)].value as prescriber_name,\n",
        "  \n",
        "  -- Volume metrics\n",
        "  COUNT(*) as prescription_count,\n",
        "  COUNT(DISTINCT NDC_DRUG_NM) as unique_drugs,\n",
        "  SUM(DISPENSED_QUANTITY_VAL) as total_quantity,\n",
        "  \n",
        "  -- Revenue metrics\n",
        "  SUM(TOTAL_PAID_AMT) as total_revenue,\n",
        "  AVG(TOTAL_PAID_AMT) as avg_claim_amount,\n",
        "  \n",
        "  -- Brand preference\n",
        "  COUNTIF(NDC_PREFERRED_BRAND_NM IS NOT NULL AND NDC_PREFERRED_BRAND_NM != '') as brand_count,\n",
        "  \n",
        "  -- Payer mix\n",
        "  COUNTIF(PAYER_PLAN_CHANNEL_NM = 'Commercial') as commercial_count,\n",
        "  COUNTIF(PAYER_PLAN_CHANNEL_NM = 'Medicare') as medicare_count,\n",
        "  COUNTIF(PAYER_PLAN_CHANNEL_NM = 'Medicaid') as medicaid_count,\n",
        "  \n",
        "  -- Refill patterns\n",
        "  COUNTIF(DAYS_SUPPLY_VAL >= 90) as supply_90day_count,\n",
        "  AVG(DAYS_SUPPLY_VAL) as avg_days_supply,\n",
        "  \n",
        "  -- Geographic (take most common)\n",
        "  APPROX_TOP_COUNT(PRESCRIBER_NPI_STATE_CD, 1)[OFFSET(0)].value as state,\n",
        "  APPROX_TOP_COUNT(CLINICAL_SERVICE_LINE, 1)[OFFSET(0)].value as specialty\n",
        "  \n",
        "FROM \n",
        "  `unique-bonbon-472921-q8.Claims.rx_claims`\n",
        "WHERE \n",
        "  PRESCRIBER_NPI_NBR IS NOT NULL\n",
        "  AND SERVICE_DATE_DD IS NOT NULL\n",
        "  AND TOTAL_PAID_AMT IS NOT NULL\n",
        "  AND TOTAL_PAID_AMT > 0\n",
        "GROUP BY \n",
        "  PRESCRIBER_NPI_NBR, month\n",
        "HAVING \n",
        "  prescription_count >= 5  -- Min 5 prescriptions per month\n",
        "ORDER BY \n",
        "  PRESCRIBER_NPI_NBR, month\n",
        "\"\"\"\n",
        "\n",
        "print(\"Executing monthly rx_claims query...\")\n",
        "print(\"(This may take a few minutes - processing 33 months of data)\")\n",
        "df_monthly = pl.from_arrow(client.query(query_monthly_rx).to_arrow())\n",
        "\n",
        "# Calculate derived features\n",
        "df_monthly = df_monthly.with_columns([\n",
        "    (pl.col('total_revenue') / pl.col('prescription_count')).alias('revenue_per_rx'),\n",
        "    (pl.col('brand_count') / pl.col('prescription_count')).alias('brand_rate'),\n",
        "    (pl.col('commercial_count') / pl.col('prescription_count')).alias('commercial_rate'),\n",
        "    (pl.col('medicare_count') / pl.col('prescription_count')).alias('medicare_rate'),\n",
        "    (pl.col('medicaid_count') / pl.col('prescription_count')).alias('medicaid_rate'),\n",
        "    (pl.col('supply_90day_count') / pl.col('prescription_count')).alias('supply_90day_rate')\n",
        "])\n",
        "\n",
        "print(f\"✅ Loaded {len(df_monthly):,} prescriber-month observations\")\n",
        "print(f\"   Unique prescribers: {df_monthly['PRESCRIBER_NPI_NBR'].n_unique():,}\")\n",
        "print(f\"   Unique months: {df_monthly['month'].n_unique()}\")\n",
        "print(f\"   Date range: {df_monthly['month'].min()} to {df_monthly['month'].max()}\")"
      ]
    },
    {
      "cell_type": "markdown",
      "metadata": {},
      "source": [
        "## Step 2: Add Monthly Medical Claims Metrics"
      ]
    },
    {
      "cell_type": "code",
      "execution_count": 12,
      "metadata": {},
      "outputs": [
        {
          "name": "stdout",
          "output_type": "stream",
          "text": [
            "Loading monthly medical claims...\n",
            "✅ Added medical claims for 924,846 prescribers\n"
          ]
        }
      ],
      "source": [
        "query_monthly_med = \"\"\"\n",
        "SELECT \n",
        "  CAST(PRIMARY_HCP AS INT64) as PRESCRIBER_NPI_NBR,\n",
        "  FORMAT_DATE('%Y-%m', STATEMENT_FROM_DD) as month,\n",
        "  \n",
        "  -- Condition complexity\n",
        "  COUNT(DISTINCT condition_label) as unique_conditions,\n",
        "  COUNT(*) as total_med_claims,\n",
        "  \n",
        "  -- Procedure involvement\n",
        "  COUNTIF(PROCEDURE_CD IS NOT NULL AND PROCEDURE_CD != '') as procedure_claims,\n",
        "  COUNT(DISTINCT PROCEDURE_CD) as unique_procedures,\n",
        "  \n",
        "  -- Financial\n",
        "  SUM(CLAIM_CHARGE_AMT) as total_charges\n",
        "  \n",
        "FROM \n",
        "  `unique-bonbon-472921-q8.Claims.medical_claims`\n",
        "WHERE \n",
        "  PRIMARY_HCP IS NOT NULL\n",
        "  AND STATEMENT_FROM_DD IS NOT NULL\n",
        "GROUP BY \n",
        "  PRESCRIBER_NPI_NBR, month\n",
        "ORDER BY \n",
        "  PRESCRIBER_NPI_NBR, month\n",
        "\"\"\"\n",
        "\n",
        "print(\"Loading monthly medical claims...\")\n",
        "df_monthly_med = pl.from_arrow(client.query(query_monthly_med).to_arrow())\n",
        "\n",
        "# Calculate procedure rate\n",
        "df_monthly_med = df_monthly_med.with_columns([\n",
        "    (pl.col('procedure_claims') / pl.col('total_med_claims')).alias('procedure_rate')\n",
        "])\n",
        "\n",
        "# Join with rx_claims monthly data\n",
        "df_monthly = df_monthly.join(\n",
        "    df_monthly_med,\n",
        "    on=['PRESCRIBER_NPI_NBR', 'month'],\n",
        "    how='left'\n",
        ")\n",
        "\n",
        "print(f\"✅ Added medical claims for {df_monthly_med['PRESCRIBER_NPI_NBR'].n_unique():,} prescribers\")"
      ]
    },
    {
      "cell_type": "markdown",
      "metadata": {},
      "source": [
        "## Step 3: Add Static Features (Time-Invariant)"
      ]
    },
    {
      "cell_type": "code",
      "execution_count": 13,
      "metadata": {},
      "outputs": [
        {
          "name": "stdout",
          "output_type": "stream",
          "text": [
            "Loading pharma payments (time-invariant)...\n",
            "✅ Added payment data for 618,813 prescribers\n"
          ]
        }
      ],
      "source": [
        "# Pharma payments (aggregate across all time - time-invariant)\n",
        "query_payments = \"\"\"\n",
        "SELECT \n",
        "  CAST(npi_number AS INT64) as PRESCRIBER_NPI_NBR,\n",
        "  COUNT(*) as payment_count,\n",
        "  SUM(total_payment_amount) as total_payments,\n",
        "  COUNT(DISTINCT associated_product) as unique_products_paid\n",
        "FROM \n",
        "  `unique-bonbon-472921-q8.HCP.provider_payments`\n",
        "WHERE \n",
        "  npi_number IS NOT NULL\n",
        "  AND total_payment_amount > 0\n",
        "GROUP BY \n",
        "  PRESCRIBER_NPI_NBR\n",
        "\"\"\"\n",
        "\n",
        "print(\"Loading pharma payments (time-invariant)...\")\n",
        "df_payments = pl.from_arrow(client.query(query_payments).to_arrow())\n",
        "\n",
        "df_payments = df_payments.with_columns([\n",
        "    pl.lit(1).alias('receives_payments')\n",
        "])\n",
        "\n",
        "# Join payments (broadcast to all months)\n",
        "df_monthly = df_monthly.join(\n",
        "    df_payments,\n",
        "    on='PRESCRIBER_NPI_NBR',\n",
        "    how='left'\n",
        ")\n",
        "\n",
        "# Fill nulls for payments\n",
        "df_monthly = df_monthly.with_columns([\n",
        "    pl.col('receives_payments').fill_null(0),\n",
        "    pl.col('total_payments').fill_null(0),\n",
        "    pl.col('payment_count').fill_null(0),\n",
        "    pl.col('unique_products_paid').fill_null(0)\n",
        "])\n",
        "\n",
        "print(f\"✅ Added payment data for {df_payments.height:,} prescribers\")"
      ]
    },
    {
      "cell_type": "code",
      "execution_count": 14,
      "metadata": {},
      "outputs": [
        {
          "name": "stdout",
          "output_type": "stream",
          "text": [
            "Loading biographical data (time-invariant)...\n",
            "✅ Added biographical data for 819,282 prescribers\n"
          ]
        }
      ],
      "source": [
        "# Biographical data (time-invariant)\n",
        "query_bio = \"\"\"\n",
        "SELECT \n",
        "  CAST(npi_number AS INT64) as PRESCRIBER_NPI_NBR,\n",
        "  ARRAY_LENGTH(certifications) as certification_count,\n",
        "  ARRAY_LENGTH(education) as education_count,\n",
        "  ARRAY_LENGTH(awards) as award_count,\n",
        "  ARRAY_LENGTH(memberships) as membership_count\n",
        "FROM \n",
        "  `unique-bonbon-472921-q8.HCP.providers_bio`\n",
        "WHERE \n",
        "  npi_number IS NOT NULL\n",
        "\"\"\"\n",
        "\n",
        "print(\"Loading biographical data (time-invariant)...\")\n",
        "df_bio = pl.from_arrow(client.query(query_bio).to_arrow())\n",
        "\n",
        "df_bio = df_bio.with_columns([\n",
        "    (pl.col('certification_count').fill_null(0) + \n",
        "     pl.col('education_count').fill_null(0) + \n",
        "     pl.col('award_count').fill_null(0) + \n",
        "     pl.col('membership_count').fill_null(0)).alias('total_credentials')\n",
        "])\n",
        "\n",
        "# Join biographical (broadcast to all months)\n",
        "df_monthly = df_monthly.join(\n",
        "    df_bio.select(['PRESCRIBER_NPI_NBR', 'certification_count', 'total_credentials']),\n",
        "    on='PRESCRIBER_NPI_NBR',\n",
        "    how='left'\n",
        ")\n",
        "\n",
        "df_monthly = df_monthly.with_columns([\n",
        "    pl.col('certification_count').fill_null(0),\n",
        "    pl.col('total_credentials').fill_null(0)\n",
        "])\n",
        "\n",
        "print(f\"✅ Added biographical data for {df_bio.height:,} prescribers\")"
      ]
    },
    {
      "cell_type": "markdown",
      "metadata": {},
      "source": [
        "## Step 4: Create Lagged Features (Time-Series Features)"
      ]
    },
    {
      "cell_type": "code",
      "execution_count": 15,
      "metadata": {},
      "outputs": [
        {
          "name": "stdout",
          "output_type": "stream",
          "text": [
            "✅ Created lagged and rolling features\n",
            "   - Lag 1 and Lag 3 features\n",
            "   - 3-month moving averages\n",
            "   - Month-over-month growth rates\n"
          ]
        }
      ],
      "source": [
        "# Sort by prescriber and month\n",
        "df_monthly = df_monthly.sort(['PRESCRIBER_NPI_NBR', 'month'])\n",
        "\n",
        "# Create lagged features (previous month)\n",
        "df_monthly = df_monthly.with_columns([\n",
        "    # Lag 1 (previous month)\n",
        "    pl.col('prescription_count').shift(1).over('PRESCRIBER_NPI_NBR').alias('prescription_count_lag1'),\n",
        "    pl.col('total_revenue').shift(1).over('PRESCRIBER_NPI_NBR').alias('total_revenue_lag1'),\n",
        "    pl.col('unique_drugs').shift(1).over('PRESCRIBER_NPI_NBR').alias('unique_drugs_lag1'),\n",
        "    \n",
        "    # Lag 3 (3 months ago)\n",
        "    pl.col('prescription_count').shift(3).over('PRESCRIBER_NPI_NBR').alias('prescription_count_lag3'),\n",
        "    pl.col('total_revenue').shift(3).over('PRESCRIBER_NPI_NBR').alias('total_revenue_lag3'),\n",
        "    \n",
        "    # Rolling averages (3-month moving average)\n",
        "    pl.col('prescription_count').rolling_mean(window_size=3).over('PRESCRIBER_NPI_NBR').alias('prescription_count_ma3'),\n",
        "    pl.col('total_revenue').rolling_mean(window_size=3).over('PRESCRIBER_NPI_NBR').alias('total_revenue_ma3'),\n",
        "    \n",
        "    # Month-over-month growth\n",
        "    ((pl.col('prescription_count') - pl.col('prescription_count').shift(1).over('PRESCRIBER_NPI_NBR')) / \n",
        "     pl.col('prescription_count').shift(1).over('PRESCRIBER_NPI_NBR')).alias('prescription_growth_mom'),\n",
        "    \n",
        "    ((pl.col('total_revenue') - pl.col('total_revenue').shift(1).over('PRESCRIBER_NPI_NBR')) / \n",
        "     pl.col('total_revenue').shift(1).over('PRESCRIBER_NPI_NBR')).alias('revenue_growth_mom')\n",
        "])\n",
        "\n",
        "print(\"✅ Created lagged and rolling features\")\n",
        "print(\"   - Lag 1 and Lag 3 features\")\n",
        "print(\"   - 3-month moving averages\")\n",
        "print(\"   - Month-over-month growth rates\")"
      ]
    },
    {
      "cell_type": "code",
      "execution_count": 18,
      "metadata": {},
      "outputs": [
        {
          "name": "stdout",
          "output_type": "stream",
          "text": [
            "✅ Added time features:\n",
            "   - year, month_num, quarter\n",
            "   - time_index (global month counter)\n",
            "   - tenure_months (prescriber-specific activity duration)\n"
          ]
        }
      ],
      "source": [
        "# Parse month and create time features\n",
        "df_monthly = df_monthly.with_columns([\n",
        "    # Extract year and month\n",
        "    pl.col('month').str.slice(0, 4).cast(pl.Int32).alias('year'),\n",
        "    pl.col('month').str.slice(5, 2).cast(pl.Int32).alias('month_num'),\n",
        "    \n",
        "    # Create time index (months since start)\n",
        "    pl.col('month').rank('dense').alias('time_index')\n",
        "])\n",
        "\n",
        "# Add quarter\n",
        "df_monthly = df_monthly.with_columns([\n",
        "    ((pl.col('month_num') - 1) // 3 + 1).alias('quarter')\n",
        "])\n",
        "\n",
        "# Tenure: number of months prescriber has been active\n",
        "df_monthly = df_monthly.with_columns([\n",
        "    pl.col('month').rank('dense').over('PRESCRIBER_NPI_NBR').alias('tenure_months')\n",
        "])\n",
        "\n",
        "print(\"✅ Added time features:\")\n",
        "print(\"   - year, month_num, quarter\")\n",
        "print(\"   - time_index (global month counter)\")\n",
        "print(\"   - tenure_months (prescriber-specific activity duration)\")"
      ]
    },
    {
      "cell_type": "markdown",
      "metadata": {},
      "source": [
        "## Step 6: Summary and Export"
      ]
    },
    {
      "cell_type": "code",
      "execution_count": 19,
      "metadata": {},
      "outputs": [
        {
          "name": "stdout",
          "output_type": "stream",
          "text": [
            "\n",
            "================================================================================\n",
            "TIME-SERIES DATASET SUMMARY\n",
            "================================================================================\n",
            "\n",
            "📊 Dataset Dimensions:\n",
            "   Total observations: 476,557\n",
            "   Unique prescribers: 50,056\n",
            "   Unique months: 33\n",
            "   Date range: 2023-01 to 2025-09\n",
            "   Avg months per prescriber: 9.5\n",
            "\n",
            "📈 Feature Categories:\n",
            "   Time-varying features (monthly):\n",
            "     - prescription_count, unique_drugs, total_revenue, avg_claim_amount\n",
            "     - brand_rate, payer_mix (commercial/medicare/medicaid rates)\n",
            "     - supply_90day_rate, avg_days_supply\n",
            "     - unique_conditions, procedure_rate (from medical_claims)\n",
            "   Time-invariant features (static):\n",
            "     - receives_payments, total_payments, payment_count\n",
            "     - certification_count, total_credentials\n",
            "   Lagged features:\n",
            "     - prescription_count_lag1, total_revenue_lag1, etc.\n",
            "     - prescription_count_ma3, total_revenue_ma3 (3-month MA)\n",
            "   Growth rates:\n",
            "     - prescription_growth_mom, revenue_growth_mom\n",
            "   Time features:\n",
            "     - year, month_num, quarter, time_index, tenure_months\n",
            "\n",
            "🔍 Sample Data:\n",
            "shape: (10, 7)\n",
            "┌──────────────┬─────────┬──────────────┬──────────────┬──────────────┬──────────────┬─────────────┐\n",
            "│ PRESCRIBER_N ┆ month   ┆ prescription ┆ total_revenu ┆ unique_drugs ┆ prescription ┆ tenure_mont │\n",
            "│ PI_NBR       ┆ ---     ┆ _count       ┆ e            ┆ ---          ┆ _growth_mom  ┆ hs          │\n",
            "│ ---          ┆ str     ┆ ---          ┆ ---          ┆ i64          ┆ ---          ┆ ---         │\n",
            "│ i64          ┆         ┆ i64          ┆ f64          ┆              ┆ f64          ┆ u32         │\n",
            "╞══════════════╪═════════╪══════════════╪══════════════╪══════════════╪══════════════╪═════════════╡\n",
            "│ 1003002312   ┆ 2023-08 ┆ 6            ┆ 34243.48     ┆ 1            ┆ null         ┆ 1           │\n",
            "│ 1003002312   ┆ 2024-03 ┆ 6            ┆ 18945.66     ┆ 2            ┆ 0.0          ┆ 2           │\n",
            "│ 1003002312   ┆ 2024-07 ┆ 11           ┆ 61204.93     ┆ 3            ┆ 0.833333     ┆ 3           │\n",
            "│ 1003002312   ┆ 2024-08 ┆ 10           ┆ 49269.6      ┆ 2            ┆ -0.090909    ┆ 4           │\n",
            "│ 1003002312   ┆ 2024-10 ┆ 7            ┆ 20440.92     ┆ 2            ┆ -0.3         ┆ 5           │\n",
            "│ 1003002312   ┆ 2024-11 ┆ 6            ┆ 36145.95     ┆ 3            ┆ -0.142857    ┆ 6           │\n",
            "│ 1003002312   ┆ 2025-01 ┆ 6            ┆ 24103.75     ┆ 3            ┆ 0.0          ┆ 7           │\n",
            "│ 1003007279   ┆ 2024-03 ┆ 5            ┆ 11367.25     ┆ 1            ┆ null         ┆ 1           │\n",
            "│ 1003007279   ┆ 2024-04 ┆ 10           ┆ 39114.96     ┆ 2            ┆ 1.0          ┆ 2           │\n",
            "│ 1003007279   ┆ 2024-05 ┆ 6            ┆ 34426.09     ┆ 2            ┆ -0.4         ┆ 3           │\n",
            "└──────────────┴─────────┴──────────────┴──────────────┴──────────────┴──────────────┴─────────────┘\n",
            "\n",
            "⚠️  Null counts (lagged features will have nulls for first observations):\n",
            "shape: (1, 4)\n",
            "┌────────────────────────┬────────────────────────┬────────────────────────┬───────────────────────┐\n",
            "│ prescription_count_lag ┆ prescription_count_lag ┆ prescription_count_ma3 ┆ prescription_growth_m │\n",
            "│ 1                      ┆ 3                      ┆ ---                    ┆ om                    │\n",
            "│ ---                    ┆ ---                    ┆ u32                    ┆ ---                   │\n",
            "│ u32                    ┆ u32                    ┆                        ┆ u32                   │\n",
            "╞════════════════════════╪════════════════════════╪════════════════════════╪═══════════════════════╡\n",
            "│ 50056                  ┆ 122361                 ┆ 88931                  ┆ 50056                 │\n",
            "└────────────────────────┴────────────────────────┴────────────────────────┴───────────────────────┘\n"
          ]
        }
      ],
      "source": [
        "print(\"\\n\" + \"=\"*80)\n",
        "print(\"TIME-SERIES DATASET SUMMARY\")\n",
        "print(\"=\"*80)\n",
        "\n",
        "print(f\"\\n📊 Dataset Dimensions:\")\n",
        "print(f\"   Total observations: {len(df_monthly):,}\")\n",
        "print(f\"   Unique prescribers: {df_monthly['PRESCRIBER_NPI_NBR'].n_unique():,}\")\n",
        "print(f\"   Unique months: {df_monthly['month'].n_unique()}\")\n",
        "print(f\"   Date range: {df_monthly['month'].min()} to {df_monthly['month'].max()}\")\n",
        "print(f\"   Avg months per prescriber: {len(df_monthly) / df_monthly['PRESCRIBER_NPI_NBR'].n_unique():.1f}\")\n",
        "\n",
        "print(f\"\\n📈 Feature Categories:\")\n",
        "print(f\"   Time-varying features (monthly):\")\n",
        "print(f\"     - prescription_count, unique_drugs, total_revenue, avg_claim_amount\")\n",
        "print(f\"     - brand_rate, payer_mix (commercial/medicare/medicaid rates)\")\n",
        "print(f\"     - supply_90day_rate, avg_days_supply\")\n",
        "print(f\"     - unique_conditions, procedure_rate (from medical_claims)\")\n",
        "print(f\"   Time-invariant features (static):\")\n",
        "print(f\"     - receives_payments, total_payments, payment_count\")\n",
        "print(f\"     - certification_count, total_credentials\")\n",
        "print(f\"   Lagged features:\")\n",
        "print(f\"     - prescription_count_lag1, total_revenue_lag1, etc.\")\n",
        "print(f\"     - prescription_count_ma3, total_revenue_ma3 (3-month MA)\")\n",
        "print(f\"   Growth rates:\")\n",
        "print(f\"     - prescription_growth_mom, revenue_growth_mom\")\n",
        "print(f\"   Time features:\")\n",
        "print(f\"     - year, month_num, quarter, time_index, tenure_months\")\n",
        "\n",
        "print(f\"\\n🔍 Sample Data:\")\n",
        "print(df_monthly.select([\n",
        "    'PRESCRIBER_NPI_NBR', 'month', 'prescription_count', 'total_revenue', \n",
        "    'unique_drugs', 'prescription_growth_mom', 'tenure_months'\n",
        "]).head(10))\n",
        "\n",
        "# Check for nulls\n",
        "print(f\"\\n⚠️  Null counts (lagged features will have nulls for first observations):\")\n",
        "null_summary = df_monthly.null_count()\n",
        "print(null_summary.select([\n",
        "    'prescription_count_lag1', 'prescription_count_lag3', \n",
        "    'prescription_count_ma3', 'prescription_growth_mom'\n",
        "]))"
      ]
    },
    {
      "cell_type": "code",
      "execution_count": 20,
      "metadata": {},
      "outputs": [
        {
          "name": "stdout",
          "output_type": "stream",
          "text": [
            "\n",
            "✅ Exported time-series dataset:\n",
            "   Parquet: outputs/timeseries_prescriber_monthly.parquet\n",
            "   CSV: outputs/timeseries_prescriber_monthly.csv\n",
            "\n",
            "🎉 Time-series dataset ready for:\n",
            "   - Forecasting (ARIMA, Prophet, LSTM)\n",
            "   - Trend analysis\n",
            "   - Cohort analysis\n",
            "   - Seasonality detection\n",
            "   - Panel regression models\n"
          ]
        }
      ],
      "source": [
        "# Export to parquet (better for time-series)\n",
        "output_path = output_dir / 'timeseries_prescriber_monthly.parquet'\n",
        "df_monthly.write_parquet(output_path)\n",
        "\n",
        "# Also export to CSV for easy viewing\n",
        "csv_path = output_dir / 'timeseries_prescriber_monthly.csv'\n",
        "df_monthly.write_csv(csv_path)\n",
        "\n",
        "print(f\"\\n✅ Exported time-series dataset:\")\n",
        "print(f\"   Parquet: {output_path}\")\n",
        "print(f\"   CSV: {csv_path}\")\n",
        "print(f\"\\n🎉 Time-series dataset ready for:\")\n",
        "print(f\"   - Forecasting (ARIMA, Prophet, LSTM)\")\n",
        "print(f\"   - Trend analysis\")\n",
        "print(f\"   - Cohort analysis\")\n",
        "print(f\"   - Seasonality detection\")\n",
        "print(f\"   - Panel regression models\")"
      ]
    }
  ],
  "metadata": {
    "kernelspec": {
      "display_name": "Python 3 (ipykernel)",
      "language": "python",
      "name": "python3"
    },
    "language_info": {
      "codemirror_mode": {
        "name": "ipython",
        "version": 3
      },
      "file_extension": ".py",
      "mimetype": "text/x-python",
      "name": "python",
      "nbconvert_exporter": "python",
      "pygments_lexer": "ipython3",
      "version": "3.11.11"
    }
  },
  "nbformat": 4,
  "nbformat_minor": 4
}
